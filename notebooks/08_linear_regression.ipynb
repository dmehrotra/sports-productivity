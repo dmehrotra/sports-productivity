{
 "cells": [
  {
   "cell_type": "markdown",
   "metadata": {},
   "source": [
    "# George RR Martin and Sports\n",
    "\n",
    "*Adapted from Chapter 3 of [An Introduction to Statistical Learning]\n",
    "\n",
    "\n",
    "## Motivation\n",
    "\n",
    "Why are we doing this?\n",
    "\n",
    "## Libraries\n",
    "\n",
    "pandas, matplotlib, statsmodels"
   ]
  },
  {
   "cell_type": "code",
   "execution_count": 10,
   "metadata": {},
   "outputs": [],
   "source": [
    "# imports\n",
    "import pandas as pd\n",
    "import matplotlib.pyplot as plt\n",
    "\n",
    "# this allows plots to appear directly in the notebook\n",
    "%matplotlib inline"
   ]
  },
  {
   "cell_type": "markdown",
   "metadata": {},
   "source": [
    "## Our Data\n",
    "\n",
    "Our data was gathered by joining [wikipedia](https://en.wikipedia.org/wiki/A_Song_of_Ice_and_Fire) data and [Pro-football Reference](https://www.pro-football-reference.com/teams/nyj/index.htm) data.  \"Pages written per month\" and \"words written per month\" we calculated by dividing the number of words or pages of a given book by the number of months it took for that book to be published.  Obviously there are issues with this. In this model we are only using the on season months."
   ]
  },
  {
   "cell_type": "code",
   "execution_count": 11,
   "metadata": {},
   "outputs": [
    {
     "data": {
      "text/html": [
       "<div>\n",
       "<style scoped>\n",
       "    .dataframe tbody tr th:only-of-type {\n",
       "        vertical-align: middle;\n",
       "    }\n",
       "\n",
       "    .dataframe tbody tr th {\n",
       "        vertical-align: top;\n",
       "    }\n",
       "\n",
       "    .dataframe thead th {\n",
       "        text-align: right;\n",
       "    }\n",
       "</style>\n",
       "<table border=\"1\" class=\"dataframe\">\n",
       "  <thead>\n",
       "    <tr style=\"text-align: right;\">\n",
       "      <th></th>\n",
       "      <th>Month/Year</th>\n",
       "      <th>Book</th>\n",
       "      <th>Team</th>\n",
       "      <th>ppm</th>\n",
       "      <th>wpm</th>\n",
       "      <th>pgw</th>\n",
       "      <th>On</th>\n",
       "    </tr>\n",
       "  </thead>\n",
       "  <tbody>\n",
       "    <tr>\n",
       "      <th>0</th>\n",
       "      <td>1/1/1999</td>\n",
       "      <td>A Clash of Kings</td>\n",
       "      <td>Giants</td>\n",
       "      <td>25.600</td>\n",
       "      <td>10630.10</td>\n",
       "      <td>0.0</td>\n",
       "      <td>on season</td>\n",
       "    </tr>\n",
       "    <tr>\n",
       "      <th>1</th>\n",
       "      <td>1/1/2001</td>\n",
       "      <td>A Feast for Crows</td>\n",
       "      <td>Giants</td>\n",
       "      <td>12.550</td>\n",
       "      <td>4917.20</td>\n",
       "      <td>0.0</td>\n",
       "      <td>on season</td>\n",
       "    </tr>\n",
       "    <tr>\n",
       "      <th>2</th>\n",
       "      <td>1/1/2002</td>\n",
       "      <td>A Feast for Crows</td>\n",
       "      <td>Giants</td>\n",
       "      <td>12.550</td>\n",
       "      <td>4917.20</td>\n",
       "      <td>0.0</td>\n",
       "      <td>on season</td>\n",
       "    </tr>\n",
       "    <tr>\n",
       "      <th>3</th>\n",
       "      <td>1/1/2005</td>\n",
       "      <td>A Feast for Crows</td>\n",
       "      <td>Giants</td>\n",
       "      <td>12.550</td>\n",
       "      <td>4917.20</td>\n",
       "      <td>0.0</td>\n",
       "      <td>on season</td>\n",
       "    </tr>\n",
       "    <tr>\n",
       "      <th>4</th>\n",
       "      <td>1/1/2006</td>\n",
       "      <td>A Dance with Dragons</td>\n",
       "      <td>Giants</td>\n",
       "      <td>15.304</td>\n",
       "      <td>6011.42</td>\n",
       "      <td>0.0</td>\n",
       "      <td>on season</td>\n",
       "    </tr>\n",
       "  </tbody>\n",
       "</table>\n",
       "</div>"
      ],
      "text/plain": [
       "  Month/Year                  Book   Team      ppm       wpm  pgw         On\n",
       "0   1/1/1999      A Clash of Kings  Giants  25.600  10630.10  0.0  on season\n",
       "1   1/1/2001     A Feast for Crows  Giants  12.550   4917.20  0.0  on season\n",
       "2   1/1/2002     A Feast for Crows  Giants  12.550   4917.20  0.0  on season\n",
       "3   1/1/2005     A Feast for Crows  Giants  12.550   4917.20  0.0  on season\n",
       "4   1/1/2006  A Dance with Dragons  Giants  15.304   6011.42  0.0  on season"
      ]
     },
     "execution_count": 11,
     "metadata": {},
     "output_type": "execute_result"
    }
   ],
   "source": [
    "# read data into a DataFrame\n",
    "\n",
    "data = pd.read_csv('../data/finished_george_data.csv')\n",
    "data.head()"
   ]
  },
  {
   "cell_type": "markdown",
   "metadata": {},
   "source": [
    "\n",
    "- ppm: Pages written per month\n",
    "- wpm: words written per month\n",
    "- pgw: games won / games lost for a given team on that month. \n"
   ]
  },
  {
   "cell_type": "code",
   "execution_count": 12,
   "metadata": {},
   "outputs": [
    {
     "data": {
      "text/plain": [
       "(75, 7)"
      ]
     },
     "execution_count": 12,
     "metadata": {},
     "output_type": "execute_result"
    }
   ],
   "source": [
    "# print the shape of the DataFrame\n",
    "data.shape"
   ]
  },
  {
   "cell_type": "markdown",
   "metadata": {},
   "source": [
    "There are 75 **observations**"
   ]
  },
  {
   "cell_type": "code",
   "execution_count": null,
   "metadata": {},
   "outputs": [],
   "source": []
  },
  {
   "cell_type": "markdown",
   "metadata": {},
   "source": [
    "## What are we trying to do?\n",
    "\n",
    "On the basis of this data, how is George RR Martin more productive when his favorite teams are performing well. \n",
    "\n",
    "This general question might lead you to more specific questions:\n",
    "1. Is there a relationship between productivity and games won?\n",
    "2. How strong is that relationship?\n"
   ]
  },
  {
   "cell_type": "markdown",
   "metadata": {},
   "source": [
    "## Simple Linear Regression\n",
    "\n",
    "A simple linear regression is a basic statistical way to predict whether or not an aspect of your data is effected by a given variable.  The formula looks like this:\n",
    "\n",
    "$y = \\beta_0 + \\beta_1x$\n",
    "\n",
    "What does each term represent?\n",
    "- $y$ is the response ( productivity as measured by words written per month )\n",
    "- $x$ is the feature ( \n",
    "- $\\beta_0$ is the intercept\n",
    "- $\\beta_1$ is the coefficient for x\n",
    "\n",
    "Together, $\\beta_0$ and $\\beta_1$ are called the **model coefficients**. To create your model, you must \"learn\" the values of these coefficients. And once we've learned these coefficients, we can use the model to predict productivity."
   ]
  },
  {
   "cell_type": "markdown",
   "metadata": {},
   "source": [
    "## Estimating Model Coefficients\n",
    "\n",
    "Generally speaking, coefficients are estimated using the **least squares criterion**, which means we are find the line (mathematically) which minimizes the **sum of squared residuals** (or \"sum of squared errors\"):"
   ]
  },
  {
   "cell_type": "markdown",
   "metadata": {},
   "source": [
    "<img src=\"08_estimating_coefficients.png\">"
   ]
  },
  {
   "cell_type": "markdown",
   "metadata": {},
   "source": [
    "What elements are present in the diagram?\n",
    "- The black dots are the **observed values** of x and y.\n",
    "- The blue line is our **least squares line**.\n",
    "- The red lines are the **residuals**, which are the distances between the observed values and the least squares line.\n",
    "\n",
    "How do the model coefficients relate to the least squares line?\n",
    "- $\\beta_0$ is the **intercept** (the value of $y$ when $x$=0)\n",
    "- $\\beta_1$ is the **slope** (the change in $y$ divided by change in $x$)\n",
    "\n",
    "Here is a graphical depiction of those calculations:"
   ]
  },
  {
   "cell_type": "markdown",
   "metadata": {},
   "source": [
    "<img src=\"08_slope_intercept.png\">"
   ]
  },
  {
   "cell_type": "markdown",
   "metadata": {},
   "source": [
    "Let's use **Statsmodels** to estimate the model coefficients for the data:"
   ]
  },
  {
   "cell_type": "code",
   "execution_count": 13,
   "metadata": {},
   "outputs": [
    {
     "data": {
      "text/plain": [
       "Intercept    7614.132800\n",
       "pgw           400.226866\n",
       "dtype: float64"
      ]
     },
     "execution_count": 13,
     "metadata": {},
     "output_type": "execute_result"
    }
   ],
   "source": [
    "import statsmodels.formula.api as smf\n",
    "\n",
    "# create a fitted model in one line\n",
    "words_per_month = smf.ols(formula='wpm~pgw', data=data).fit()\n",
    "\n",
    "# print the coefficients\n",
    "words_per_month.params\n"
   ]
  },
  {
   "cell_type": "markdown",
   "metadata": {},
   "source": [
    "## Plotting the Least Squares Line\n",
    "\n"
   ]
  },
  {
   "cell_type": "code",
   "execution_count": 14,
   "metadata": {
    "scrolled": true
   },
   "outputs": [
    {
     "data": {
      "text/html": [
       "<div>\n",
       "<style scoped>\n",
       "    .dataframe tbody tr th:only-of-type {\n",
       "        vertical-align: middle;\n",
       "    }\n",
       "\n",
       "    .dataframe tbody tr th {\n",
       "        vertical-align: top;\n",
       "    }\n",
       "\n",
       "    .dataframe thead th {\n",
       "        text-align: right;\n",
       "    }\n",
       "</style>\n",
       "<table border=\"1\" class=\"dataframe\">\n",
       "  <thead>\n",
       "    <tr style=\"text-align: right;\">\n",
       "      <th></th>\n",
       "      <th>pgw</th>\n",
       "    </tr>\n",
       "  </thead>\n",
       "  <tbody>\n",
       "    <tr>\n",
       "      <th>0</th>\n",
       "      <td>0.0</td>\n",
       "    </tr>\n",
       "    <tr>\n",
       "      <th>1</th>\n",
       "      <td>0.0</td>\n",
       "    </tr>\n",
       "    <tr>\n",
       "      <th>2</th>\n",
       "      <td>0.0</td>\n",
       "    </tr>\n",
       "    <tr>\n",
       "      <th>3</th>\n",
       "      <td>0.0</td>\n",
       "    </tr>\n",
       "    <tr>\n",
       "      <th>4</th>\n",
       "      <td>0.0</td>\n",
       "    </tr>\n",
       "  </tbody>\n",
       "</table>\n",
       "</div>"
      ],
      "text/plain": [
       "   pgw\n",
       "0  0.0\n",
       "1  0.0\n",
       "2  0.0\n",
       "3  0.0\n",
       "4  0.0"
      ]
     },
     "execution_count": 14,
     "metadata": {},
     "output_type": "execute_result"
    }
   ],
   "source": [
    "X_new = pd.DataFrame({'pgw': data['pgw']})\n",
    "X_new.head()"
   ]
  },
  {
   "cell_type": "code",
   "execution_count": 15,
   "metadata": {},
   "outputs": [
    {
     "data": {
      "text/plain": [
       "0     7614.132800\n",
       "1     7614.132800\n",
       "2     7614.132800\n",
       "3     7614.132800\n",
       "4     7614.132800\n",
       "5     7614.132800\n",
       "6     7614.132800\n",
       "7     7614.132800\n",
       "8     7614.132800\n",
       "9     7614.132800\n",
       "10    7614.132800\n",
       "11    7614.132800\n",
       "12    7614.132800\n",
       "13    7614.132800\n",
       "14    7614.132800\n",
       "15    7614.132800\n",
       "16    7614.132800\n",
       "17    7614.132800\n",
       "18    7614.132800\n",
       "19    7614.132800\n",
       "20    7614.132800\n",
       "21    8014.359667\n",
       "22    8014.359667\n",
       "23    8014.359667\n",
       "24    8014.359667\n",
       "25    8014.359667\n",
       "26    8014.359667\n",
       "27    7814.246234\n",
       "28    7814.246234\n",
       "29    7814.246234\n",
       "         ...     \n",
       "45    7714.189517\n",
       "46    7714.189517\n",
       "47    7714.189517\n",
       "48    7714.189517\n",
       "49    7714.189517\n",
       "50    7714.189517\n",
       "51    7714.189517\n",
       "52    7714.189517\n",
       "53    7714.189517\n",
       "54    7714.189517\n",
       "55    7714.189517\n",
       "56    7714.189517\n",
       "57    7714.189517\n",
       "58    7714.189517\n",
       "59    7714.189517\n",
       "60    7714.189517\n",
       "61    7694.178174\n",
       "62    7694.178174\n",
       "63    8014.359667\n",
       "64    7880.950711\n",
       "65    7880.950711\n",
       "66    7880.950711\n",
       "67    7880.950711\n",
       "68    7880.950711\n",
       "69    7880.950711\n",
       "70    7880.950711\n",
       "71    7880.950711\n",
       "72    7880.950711\n",
       "73    7880.950711\n",
       "74    7880.950711\n",
       "Length: 75, dtype: float64"
      ]
     },
     "execution_count": 15,
     "metadata": {},
     "output_type": "execute_result"
    }
   ],
   "source": [
    "# make predictions for those x values and store them\n",
    "preds = words_per_month.predict(X_new)\n",
    "preds"
   ]
  },
  {
   "cell_type": "code",
   "execution_count": 16,
   "metadata": {},
   "outputs": [
    {
     "data": {
      "text/plain": [
       "[<matplotlib.lines.Line2D at 0x11815fe48>]"
      ]
     },
     "execution_count": 16,
     "metadata": {},
     "output_type": "execute_result"
    },
    {
     "data": {
      "image/png": "[encoded data removed]",
      "text/plain": [
       "<Figure size 432x288 with 1 Axes>"
      ]
     },
     "metadata": {
      "needs_background": "light"
     },
     "output_type": "display_data"
    }
   ],
   "source": [
    "# first, plot the observed data\n",
    "data.plot(kind='scatter', x='pgw', y='wpm')\n",
    "\n",
    "# then, plot the least squares line\n",
    "plt.plot(X_new, preds, c='red', linewidth=2)"
   ]
  },
  {
   "cell_type": "markdown",
   "metadata": {},
   "source": [
    "## Hypothesis Testing and p-values\n",
    "\n",
    "Closely related to confidence intervals is **hypothesis testing**. Generally speaking, you start with a **null hypothesis** and an **alternative hypothesis** (that is opposite the null). Then, you check whether the data supports **rejecting the null hypothesis** or **failing to reject the null hypothesis**.\n",
    "\n",
    "As it relates to model coefficients, here is the conventional hypothesis test:\n",
    "- **null hypothesis:** There is no relationship the proportion of games won and George RR Martin's Productivity (and thus $\\beta_1$ equals zero)\n",
    "- **alternative hypothesis:** There is a relationship between proportion of games won and George RR Martin's Productivity (and thus $\\beta_1$ is not equal to zero)\n",
    "\n",
    "How do we test this hypothesis? Intuitively, we reject the null (and thus believe the alternative) if the 95% confidence interval **does not include zero**. Conversely, the **p-value** represents the probability that the coefficient is actually zero:"
   ]
  },
  {
   "cell_type": "code",
   "execution_count": 17,
   "metadata": {},
   "outputs": [
    {
     "data": {
      "text/plain": [
       "Intercept    3.289496e-16\n",
       "pgw          8.039269e-01\n",
       "dtype: float64"
      ]
     },
     "execution_count": 17,
     "metadata": {},
     "output_type": "execute_result"
    }
   ],
   "source": [
    "# print the p-values for the model coefficients\n",
    "words_per_month.pvalues"
   ]
  },
  {
   "cell_type": "markdown",
   "metadata": {},
   "source": [
    "If the 95% confidence interval **includes zero**, the p-value for that coefficient will be **greater than 0.05**. If the 95% confidence interval **does not include zero**, the p-value will be **less than 0.05**. Thus, a p-value less than 0.05 is one way to decide whether there is likely a relationship between the feature and the response. (Again, using 0.05 as the cutoff is just a convention.)\n",
    "\n",
    "In this case, the p-value for percentage of games won is far greater than 0.05, and so we **believe** that there is NO relationship between productivity and how well his teams perform.\n",
    "\n"
   ]
  },
  {
   "cell_type": "markdown",
   "metadata": {},
   "source": [
    "## Resources\n",
    "\n",
    "- To go much more in-depth on linear regression, read Chapter 3 of [An Introduction to Statistical Learning](http://www-bcf.usc.edu/~gareth/ISL/), from which this lesson was adapted. Alternatively, watch the [related videos](http://www.dataschool.io/15-hours-of-expert-machine-learning-videos/) or read my [quick reference guide](http://www.dataschool.io/applying-and-interpreting-linear-regression/) to the key points in that chapter.\n",
    "- To learn more about Statsmodels and how to interpret the output, DataRobot has some decent posts on [simple linear regression](http://www.datarobot.com/blog/ordinary-least-squares-in-python/) and [multiple linear regression](http://www.datarobot.com/blog/multiple-regression-using-statsmodels/).\n",
    "- This [introduction to linear regression](http://people.duke.edu/~rnau/regintro.htm) is much more detailed and mathematically thorough, and includes lots of good advice.\n",
    "- This is a relatively quick post on the [assumptions of linear regression](http://pareonline.net/getvn.asp?n=2&v=8)."
   ]
  },
  {
   "cell_type": "code",
   "execution_count": null,
   "metadata": {},
   "outputs": [],
   "source": []
  },
  {
   "cell_type": "code",
   "execution_count": null,
   "metadata": {},
   "outputs": [],
   "source": []
  },
  {
   "cell_type": "code",
   "execution_count": null,
   "metadata": {},
   "outputs": [],
   "source": []
  }
 ],
 "metadata": {
  "kernelspec": {
   "display_name": "Python 3",
   "language": "python",
   "name": "python3"
  },
  "language_info": {
   "codemirror_mode": {
    "name": "ipython",
    "version": 3
   },
   "file_extension": ".py",
   "mimetype": "text/x-python",
   "name": "python",
   "nbconvert_exporter": "python",
   "pygments_lexer": "ipython3",
   "version": "3.7.2"
  }
 },
 "nbformat": 4,
 "nbformat_minor": 1
}
